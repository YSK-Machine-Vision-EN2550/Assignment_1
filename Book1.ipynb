{
 "cells": [
  {
   "cell_type": "code",
   "execution_count": 1,
   "id": "5970cc8e",
   "metadata": {},
   "outputs": [],
   "source": [
    "import cv2 as cv\n",
    "import numpy as np\n",
    "from matplotlib import pyplot as plt\n",
    "%matplotlib inline"
   ]
  },
  {
   "cell_type": "code",
   "execution_count": 2,
   "id": "0726200c",
   "metadata": {},
   "outputs": [
    {
     "name": "stdout",
     "output_type": "stream",
     "text": [
      " Volume in drive E is SSD volume\n",
      " Volume Serial Number is FA50-0540\n",
      "\n",
      " Directory of E:\\ImportantDocBackup\\UOM Assignments\\Semester 4\\machine_vision\\Assignment_1\n",
      "\n",
      "02/20/2022  12:15 PM    <DIR>          .\n",
      "02/20/2022  12:15 PM    <DIR>          ..\n",
      "02/20/2022  11:53 AM    <DIR>          .ipynb_checkpoints\n",
      "02/20/2022  12:14 PM    <DIR>          a1q5images\n",
      "02/20/2022  11:53 AM               577 Book1.ipynb\n",
      "02/20/2022  12:14 PM            34,597 brain_proton_density_slice.png\n",
      "02/20/2022  12:14 PM            91,174 daisy.jpg\n",
      "02/20/2022  12:14 PM           111,634 einstein.png\n",
      "02/20/2022  12:14 PM            86,276 emma_gray.jpg\n",
      "02/20/2022  12:14 PM            66,738 highlights_and_shadows.jpg\n",
      "02/20/2022  12:14 PM           106,774 shells.png\n",
      "               7 File(s)        497,770 bytes\n",
      "               4 Dir(s)  173,693,497,344 bytes free\n"
     ]
    }
   ],
   "source": [
    "!dir"
   ]
  },
  {
   "cell_type": "code",
   "execution_count": 5,
   "id": "4ba901b9",
   "metadata": {},
   "outputs": [
    {
     "name": "stdout",
     "output_type": "stream",
     "text": [
      " Volume in drive E is SSD volume\n",
      " Volume Serial Number is FA50-0540\n",
      "\n",
      " Directory of E:\\ImportantDocBackup\\UOM Assignments\\Semester 4\\machine_vision\\Assignment_1\\a1q5images\n",
      "\n",
      "02/20/2022  12:14 PM    <DIR>          .\n",
      "02/20/2022  12:14 PM    <DIR>          ..\n",
      "10/13/2016  08:38 AM         2,823,360 im01.png\n",
      "10/13/2016  08:38 AM           246,121 im01small.png\n",
      "10/13/2016  08:38 AM         2,040,813 im02.png\n",
      "10/13/2016  08:38 AM           194,390 im02small.png\n",
      "10/13/2016  08:38 AM         3,410,482 im03.png\n",
      "10/13/2016  08:38 AM           342,597 im03small.png\n",
      "               6 File(s)      9,057,763 bytes\n",
      "               2 Dir(s)  173,693,493,248 bytes free\n"
     ]
    }
   ],
   "source": [
    "!dir a1q5images"
   ]
  },
  {
   "cell_type": "markdown",
   "id": "b1b8b237",
   "metadata": {},
   "source": [
    "# Assignment 1"
   ]
  },
  {
   "cell_type": "markdown",
   "id": "a04812de",
   "metadata": {},
   "source": [
    "## Question 1"
   ]
  },
  {
   "cell_type": "code",
   "execution_count": 29,
   "id": "27e1a052",
   "metadata": {},
   "outputs": [
    {
     "data": {
      "image/png": "[encoded data removed]",
      "text/plain": [
       "<Figure size 1152x432 with 1 Axes>"
      ]
     },
     "metadata": {
      "needs_background": "light"
     },
     "output_type": "display_data"
    }
   ],
   "source": [
    "# creating intensity transformation\n",
    "t1 = np.linspace(0, 50, 50)\n",
    "t2 = np.linspace(200, 255, 100)\n",
    "t3 = np.linspace(150, 255, 106)\n",
    "\n",
    "transform = np.concatenate((t1, t2, t3), axis = 0).astype(np.uint8)\n",
    "assert len(transform) == 256\n",
    "\n",
    "_, ax = plt.subplots(figsize = (16, 6))\n",
    "ax.plot(transform)\n",
    "plt.show()"
   ]
  },
  {
   "cell_type": "code",
   "execution_count": 32,
   "id": "d81716dd",
   "metadata": {},
   "outputs": [
    {
     "ename": "AttributeError",
     "evalue": "module 'cv2' has no attribute 'BGR2RGB'",
     "output_type": "error",
     "traceback": [
      "\u001b[1;31m---------------------------------------------------------------------------\u001b[0m",
      "\u001b[1;31mAttributeError\u001b[0m                            Traceback (most recent call last)",
      "Input \u001b[1;32mIn [32]\u001b[0m, in \u001b[0;36m<module>\u001b[1;34m\u001b[0m\n\u001b[0;32m      5\u001b[0m img_corr \u001b[38;5;241m=\u001b[39m cv\u001b[38;5;241m.\u001b[39mLUT(img, transform)\n\u001b[0;32m      7\u001b[0m \u001b[38;5;66;03m# do color convertion\u001b[39;00m\n\u001b[1;32m----> 8\u001b[0m img \u001b[38;5;241m=\u001b[39m cv\u001b[38;5;241m.\u001b[39mcvtColor(img, \u001b[43mcv\u001b[49m\u001b[38;5;241;43m.\u001b[39;49m\u001b[43mBGR2RGB\u001b[49m)\n\u001b[0;32m      9\u001b[0m img_corr \u001b[38;5;241m=\u001b[39m cv\u001b[38;5;241m.\u001b[39mcvtColor(img_corr, cv\u001b[38;5;241m.\u001b[39mBGR2RGB)\n\u001b[0;32m     11\u001b[0m _, ax \u001b[38;5;241m=\u001b[39m plt\u001b[38;5;241m.\u001b[39msubplots(\u001b[38;5;241m1\u001b[39m, \u001b[38;5;241m2\u001b[39m, figsize\u001b[38;5;241m=\u001b[39m(\u001b[38;5;241m16\u001b[39m, \u001b[38;5;241m6\u001b[39m))\n",
      "\u001b[1;31mAttributeError\u001b[0m: module 'cv2' has no attribute 'BGR2RGB'"
     ]
    }
   ],
   "source": [
    "img = cv.imread(r'emma_gray.jpg', cv.IMREAD_GRAYSCALE)\n",
    "assert img is not None\n",
    "\n",
    "# do color correction\n",
    "img_corr = cv.LUT(img, transform)\n",
    "\n",
    "# do color convertion\n",
    "img = cv.cvtColor(img, cv.BGR2RGB)\n",
    "img_corr = cv.cvtColor(img_corr, cv.BGR2RGB)\n",
    "\n",
    "_, ax = plt.subplots(1, 2, figsize=(16, 6))\n",
    "\n",
    "ax[0].imshow(img)\n"
   ]
  },
  {
   "cell_type": "code",
   "execution_count": null,
   "id": "25dd9371",
   "metadata": {},
   "outputs": [],
   "source": []
  }
 ],
 "metadata": {
  "kernelspec": {
   "display_name": "Python 3",
   "language": "python",
   "name": "python3"
  },
  "language_info": {
   "codemirror_mode": {
    "name": "ipython",
    "version": 3
   },
   "file_extension": ".py",
   "mimetype": "text/x-python",
   "name": "python",
   "nbconvert_exporter": "python",
   "pygments_lexer": "ipython3",
   "version": "3.10.2"
  }
 },
 "nbformat": 4,
 "nbformat_minor": 5
}
